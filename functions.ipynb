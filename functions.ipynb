{
 "cells": [
  {
   "cell_type": "code",
   "execution_count": 1,
   "metadata": {},
   "outputs": [],
   "source": [
    "import numpy as np\n",
    "from matplotlib import pyplot as plt\n",
    "from mpl_toolkits.mplot3d import Axes3D\n",
    "from collections import defaultdict\n",
    "from tqdm import tqdm_notebook as tqdm"
   ]
  },
  {
   "cell_type": "raw",
   "metadata": {},
   "source": [
    "plt.rcParams[\"figure.figsize\"] = [12,8]\n",
    "plt.rcParams[\"figure.dpi\"] = 200\n",
    "plt.rcParams['figure.facecolor'] = 'white'"
   ]
  },
  {
   "cell_type": "code",
   "execution_count": 2,
   "metadata": {},
   "outputs": [],
   "source": [
    "# constants\n",
    "k_b = 1.38064852e-23\n",
    "m_proton = 1.6726219e-27\n",
    "m_particle = m_proton * 4 # Helium\n",
    "LG_sigma = 2.640 * 1e-10\n",
    "LG_epsilon =  10.9 * k_b\n",
    "\n",
    "# LG_sigma = 3.405 * 1e-10\n",
    "# LG_epsilon =  119.8 * k_b\n",
    "# m_particle = 0.03994 / 6.02e23  # Argon\n"
   ]
  },
  {
   "cell_type": "code",
   "execution_count": 3,
   "metadata": {},
   "outputs": [
    {
     "name": "stdout",
     "output_type": "stream",
     "text": [
      "unit_length: 2.64e-10 \n",
      "unit_time: 1.76e-12 \n",
      "unit_temperature: 1.09e+01 \n",
      "unit_pressure: 8.18e+06 \n",
      "unit_volume: 1.84e-29\n"
     ]
    }
   ],
   "source": [
    "unit_length = LG_sigma\n",
    "unit_time = LG_sigma * np.sqrt(m_particle / LG_epsilon)\n",
    "unit_temperature = LG_epsilon / k_b\n",
    "unit_pressure = LG_epsilon / LG_sigma**3\n",
    "unit_volume = LG_sigma**3\n",
    "\n",
    "print(\n",
    "    \"unit_length: %0.2e\" % unit_length,\n",
    "    \"\\nunit_time: %0.2e\"% unit_time,\n",
    "    \"\\nunit_temperature: %0.2e\" % unit_temperature,\n",
    "    \"\\nunit_pressure: %0.2e\" % unit_pressure,\n",
    "    \"\\nunit_volume: %0.2e\" % unit_volume\n",
    ")"
   ]
  },
  {
   "cell_type": "code",
   "execution_count": 4,
   "metadata": {},
   "outputs": [],
   "source": [
    "def norm(r):\n",
    "    return np.sqrt(np.sum(r**2, axis=-1))\n",
    "\n",
    "def calc_diff(r, box, with_nan=False, closest=True):\n",
    "    \"\"\"\n",
    "    r is a Nx3 ndarray\n",
    "    returns matrix NxNx: d\n",
    "    d[i,j] = r[i] - r[j]\n",
    "    note that this is antisymmetric matrix\n",
    "    \"\"\"\n",
    "    r = r.copy()\n",
    "    if closest is True:\n",
    "        for i, bound in enumerate(box):\n",
    "            r[:,i] = r[:,i] - (r[:, i] // bound)*bound\n",
    "    \n",
    "    D = np.zeros((r.shape[0], r.shape[0], 3))\n",
    "    D += r[:, None, :]\n",
    "    D -= r[None, :, :]\n",
    "    \n",
    "    if closest is True:\n",
    "        for i, bound in enumerate(box):\n",
    "            D[..., i][D[...,i] > bound/2] -= bound\n",
    "            D[..., i][D[...,i] < -bound/2] += bound\n",
    "    \n",
    "    if with_nan:\n",
    "        np.fill_diagonal(D[..., 0], np.nan)\n",
    "        np.fill_diagonal(D[..., 1], np.nan)\n",
    "        np.fill_diagonal(D[..., 2], np.nan)\n",
    "\n",
    "    return D\n",
    "\n",
    "def calc_dist(r, box):\n",
    "    \"\"\"\n",
    "    r is a Nx3 ndarray\n",
    "    returns matrix NxNx: d\n",
    "    d[i,j] = ||r[i] - r[j]||\n",
    "    note that this is symmetric matrix\n",
    "    returns matrix of distancec\n",
    "    \"\"\"\n",
    "    diff = calc_diff(r, box)\n",
    "    return norm(diff)\n",
    "    "
   ]
  },
  {
   "cell_type": "markdown",
   "metadata": {},
   "source": [
    "## Lennard-Jones potential\n",
    "$$V _ { \\mathrm { LJ } } = 4 \\varepsilon \\left[ \\left( \\frac { \\sigma } { r } \\right) ^ { 12 } - \\left( \\frac { \\sigma } { r } \\right) ^ { 6 } \\right]$$\n",
    "\n",
    "$$V _ { \\mathrm { LJ } } ^ \\star = 4 \\left[ \\left( \\frac { 1 } { r^\\star } \\right) ^ { 12 } - \\left( \\frac { 1 } { r^\\star } \\right) ^ { 6 } \\right]$$\n",
    "\n",
    "$$F_x  = 4 \\varepsilon \\left[ 12\\left( \\frac { \\sigma } { r } \\right) ^ { 12 } - 6\\left( \\frac { \\sigma } { r } \\right) ^ { 6 } \\right] \\frac{x}{r^2}$$\n",
    "$$F_y  = 4 \\varepsilon \\left[ 12\\left( \\frac { \\sigma } { r } \\right) ^ { 12 } - 6\\left( \\frac { \\sigma } { r } \\right) ^ { 6 } \\right] \\frac{y}{r^2}$$\n",
    "$$F_z  = 4 \\varepsilon \\left[ 12\\left( \\frac { \\sigma } { r } \\right) ^ { 12 } - 6\\left( \\frac { \\sigma } { r } \\right) ^ { 6 } \\right] \\frac{z}{r^2}$$\n"
   ]
  },
  {
   "cell_type": "code",
   "execution_count": 5,
   "metadata": {},
   "outputs": [],
   "source": [
    "# parameters for helium\n",
    "# https://www.seas.upenn.edu/~amyers/CSATalu.pdf\n",
    "LG_sigma = 2.640 * 1e-10\n",
    "LG_epsilon =  10.9 * k_b\n",
    "\n",
    "def LJ_potential(r, box, closest=True):\n",
    "    diff = calc_diff(r, box, with_nan=True, closest=closest)\n",
    "    dist = norm(diff)\n",
    "    \n",
    "    one_over_r_power6 = (dist) ** (-6)\n",
    "    one_over_r_power12 = one_over_r_power6 ** 2\n",
    "    \n",
    "    potential = 4 * (one_over_r_power12 - one_over_r_power6)\n",
    "    \n",
    "    np.fill_diagonal(potential, 0)\n",
    "    return potential\n",
    "\n",
    "def LJ_potential_derivative(r, box, closest=True):\n",
    "    diff = calc_diff(r, box, with_nan=True, closest=closest)\n",
    "    dist = norm(diff)\n",
    "    \n",
    "    one_over_r_power6 = (dist) ** (-6)\n",
    "    one_over_r_power12 = one_over_r_power6 ** 2\n",
    "    \n",
    "    derivative = -4 * (12 * one_over_r_power12 - \n",
    "                      6 * one_over_r_power6) / dist\n",
    "    np.fill_diagonal(derivative, 0)\n",
    "\n",
    "    return derivative\n",
    "\n",
    "def LJ_force(r, box, closest=True):\n",
    "    \"\"\"\n",
    "    r: NxNx3 ndarray\n",
    "    r[i,j]: distance vector from j to i, \n",
    "            i.e. r_i - r_j\n",
    "    return F\n",
    "    F[i,j] = force on i by j\n",
    "    F[i,i] = 0\n",
    "    \"\"\"\n",
    "    diff = calc_diff(r, box, with_nan=True, closest=closest)\n",
    "    dist = norm(diff)\n",
    "    \n",
    "    one_over_r_power6 = (dist) ** (-6)\n",
    "    one_over_r_power12 = one_over_r_power6 ** 2\n",
    "    \n",
    "    comon_part = 4 * (12 * one_over_r_power12 - \n",
    "                                6 * one_over_r_power6) / dist**2\n",
    "    F = comon_part[..., None] * diff\n",
    "    np.fill_diagonal(F[..., 0], 0)\n",
    "    np.fill_diagonal(F[..., 1], 0)\n",
    "    np.fill_diagonal(F[..., 2], 0)\n",
    "    return F"
   ]
  },
  {
   "cell_type": "code",
   "execution_count": 6,
   "metadata": {},
   "outputs": [],
   "source": [
    "def calc_acceleration(F):\n",
    "    return np.sum(F, axis=1)\n",
    "\n",
    "def system_energy(r, v, box):\n",
    "    KE = 0.5 * np.sum(v**2)\n",
    "    PE = np.sum(LJ_potential(r, box, closest=False))/2\n",
    "    return KE, PE"
   ]
  },
  {
   "cell_type": "markdown",
   "metadata": {},
   "source": [
    "## Distribution of speed vector\n",
    "$$f _ { \\mathbf { v } } \\left( v _ { x } , v _ { y } , v _ { z } \\right) = \\left( \\frac { m } { 2 \\pi k T } \\right) ^ { 3 / 2 } \\exp \\left[ - \\frac { m \\left( v _ { x } ^ { 2 } + v _ { y } ^ { 2 } + v _ { z } ^ { 2 } \\right) } { 2 k T } \\right]$$"
   ]
  },
  {
   "cell_type": "code",
   "execution_count": 7,
   "metadata": {},
   "outputs": [],
   "source": [
    "def init_positions_on_grid(N, box):\n",
    "    \n",
    "    box_a, box_b, box_c = box\n",
    "    \n",
    "    box_vol = box_a * box_b * box_c\n",
    "    d = (box_vol / N)**(1/3)\n",
    "    pos_a = d/2 + np.arange(0, box_a-d+0.001, d)\n",
    "    pos_b = d/2 + np.arange(0, box_b-d+0.001, d)\n",
    "    pos_c = d/2 + np.arange(0, box_c-d+0.001, d)\n",
    "\n",
    "    r_init = np.stack(np.meshgrid(pos_a, pos_b, pos_c), axis=-1).reshape(-1, 3)\n",
    "    r_init += np.random.uniform(-d*0.05, d*0.05, r_init.shape)\n",
    "    \n",
    "    return r_init\n",
    "\n",
    "\n",
    "def init_positions_random(N, box):\n",
    "    \n",
    "    box_vol = np.product(box)\n",
    "    \n",
    "    d = min(((box_vol / N)**(1/3))*0.80, 1)\n",
    "    \n",
    "    r_init = [np.random.uniform([0,0,0], box)]\n",
    "    r_init_array = np.asarray(r_init)\n",
    "    N-=1\n",
    "    \n",
    "    while N > 0:\n",
    "        new_particle = np.random.uniform(np.asarray([0,0,0]) + d/2, np.asarray(box) - d/2)\n",
    "        if min(norm(r_init_array - new_particle)) >= d:\n",
    "            r_init.append(new_particle)\n",
    "            r_init_array = np.asarray(r_init)\n",
    "            N-=1\n",
    "    return r_init_array\n",
    "\n",
    "def init_velocity_boltzmann(N, temperature):\n",
    "    v_mean = 0 * np.ones(3)\n",
    "    v_sigma = temperature * np.eye(3)\n",
    "\n",
    "    v_init = np.random.multivariate_normal(v_mean, v_sigma, size=N)\n",
    "    v_init -= v_init.mean(axis=0)    \n",
    "\n",
    "    return v_init"
   ]
  },
  {
   "cell_type": "code",
   "execution_count": 8,
   "metadata": {},
   "outputs": [],
   "source": [
    "def step_ideal(r, v, a, t,dt,box):\n",
    "    r += v * dt\n",
    "    return r, v, a, round(t+dt, 6)"
   ]
  },
  {
   "cell_type": "code",
   "execution_count": 9,
   "metadata": {},
   "outputs": [],
   "source": [
    "def step_LJ(r, v, a, t, dt, box):\n",
    "    ###########################\n",
    "    ## Stormer-Verlet Algorithm\n",
    "    if a is None:\n",
    "        a = calc_acceleration(\n",
    "                LJ_force(r, box))\n",
    "    \n",
    "    r += v * dt + 0.5 * a * dt**2\n",
    "    v += 0.5 * a * dt\n",
    "    a = calc_acceleration(\n",
    "        LJ_force(r, box))\n",
    "    v += 0.5 * a * dt\n",
    "    ###########################\n",
    "    \n",
    "#     r, v = put_in_box(r, v, box)\n",
    "    return r, v, a, round(t+dt, 6)"
   ]
  },
  {
   "cell_type": "raw",
   "metadata": {},
   "source": [
    "%%timeit\n",
    "system_energy(r, v)"
   ]
  },
  {
   "cell_type": "markdown",
   "metadata": {},
   "source": [
    "### Start simulation"
   ]
  },
  {
   "cell_type": "code",
   "execution_count": 10,
   "metadata": {},
   "outputs": [],
   "source": [
    "def simulate(r,v,t, box,\n",
    "    history=None,\n",
    "    iteration_time=1, dt=0.0005, record_interval=0.01,\n",
    "    edit_system_function=None, edit_interval=None, edit_params=list()):\n",
    "    \"\"\"\n",
    "    r,v,a,t: initial parameters of the system\n",
    "    box: size of the box\n",
    "    history: previous recordings, give if you wwant to continue simulation\n",
    "    iteration_time: time to simulate\n",
    "    dt: time interval of the one step\n",
    "    record_interval: interval of recording the state of the system \n",
    "    \"\"\"    \n",
    "    \n",
    "    if history is None:\n",
    "        history = defaultdict(list)\n",
    "        history[\"KE\"].append(system_energy(r,v, box)[0])\n",
    "        history[\"PE\"].append(system_energy(r,v, box)[1])\n",
    "        history[\"time\"].append(t)\n",
    "    else:\n",
    "        r = history[\"rs\"][-1].copy()\n",
    "        v = history[\"vs\"][-1].copy()\n",
    "        t = history[\"time\"][-1]\n",
    "    \n",
    "    edit_time = t\n",
    "    \n",
    "    a = calc_acceleration(LJ_force(r, box))\n",
    "    \n",
    "    \n",
    "    for it in tqdm(range(int(iteration_time/dt)), mininterval=1):\n",
    "    #     r,v,a,t,dp = step_ideal(r, v,a, t)\n",
    "        r,v,a,t = step_LJ(r, v, a, t, dt, box)\n",
    "\n",
    "        if t - history[\"time\"][-1] >= record_interval - dt/4:\n",
    "            KE,PE = system_energy(r, v, box)\n",
    "            history[\"KE\"].append(KE)\n",
    "            history[\"PE\"].append(PE)\n",
    "            history[\"time\"].append(round(history[\"time\"][-1]+record_interval, 6))\n",
    "            history[\"vs\"].append(v.copy())\n",
    "            history[\"rs\"].append(r.copy())\n",
    "        if edit_system_function is not None and t - edit_time >= edit_interval - dt/4:\n",
    "            edit_time = round(edit_time+edit_interval, 6)\n",
    "            (r,v,t) = edit_system_function((r,v,t), history, *edit_params)\n",
    "        \n",
    "    history[\"total\"] = list(np.asarray(history[\"PE\"]) + np.asarray(history[\"KE\"]))\n",
    "    return history"
   ]
  },
  {
   "cell_type": "raw",
   "metadata": {},
   "source": [
    "history = simulate(r_init.copy(), v_init.copy(), 0, box,\n",
    "                  history=None,\n",
    "                  iteration_time=0.2, dt=0.001, record_interval=0.01)\n",
    "\n",
    "#continue\n",
    "history = simulate(None, None, None, box,\n",
    "                  history=history,\n",
    "                  iteration_time=0.2, dt=0.001, record_interval=0.01)"
   ]
  },
  {
   "cell_type": "code",
   "execution_count": 11,
   "metadata": {},
   "outputs": [],
   "source": [
    "def estimmate_temperature(vs, box):\n",
    "    vs = np.asarray(vs)\n",
    "    KE_mean = np.sum(vs**2)/2/vs.shape[0]\n",
    "    return KE_mean*2/(3 * vs.shape[1])"
   ]
  },
  {
   "cell_type": "code",
   "execution_count": 12,
   "metadata": {},
   "outputs": [],
   "source": [
    "def pressure_viral(rs, vs, box):\n",
    "    vs = np.asarray(vs)\n",
    "    rs = np.asarray(rs)\n",
    "    KE_mean = np.sum(vs**2)/2/vs.shape[0]\n",
    "    W_int = np.mean([np.sum(LJ_potential_derivative(r, box) * calc_dist(r, box)) \n",
    "                     for r in rs])\n",
    "    pressure = 1/np.product(box) * (KE_mean * (2/3) - 1/6 * W_int)\n",
    "    return pressure"
   ]
  }
 ],
 "metadata": {
  "kernelspec": {
   "display_name": "Python 3 (ipykernel)",
   "language": "python",
   "name": "python3"
  },
  "language_info": {
   "codemirror_mode": {
    "name": "ipython",
    "version": 3
   },
   "file_extension": ".py",
   "mimetype": "text/x-python",
   "name": "python",
   "nbconvert_exporter": "python",
   "pygments_lexer": "ipython3",
   "version": "3.9.12"
  }
 },
 "nbformat": 4,
 "nbformat_minor": 2
}
